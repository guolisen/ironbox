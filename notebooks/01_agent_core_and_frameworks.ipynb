{
 "cells": [
  {
   "cell_type": "markdown",
   "metadata": {},
   "source": [
    "# Ironbox: Enhanced Agent Core and Framework Selection\n",
    "\n",
    "This notebook demonstrates how the enhanced Agent Core processes queries and selects the appropriate framework for handling different types of requests.\n",
    "\n",
    "## Overview\n",
    "\n",
    "The Agent Core is the central component of the Ironbox system that:\n",
    "1. Receives user queries\n",
    "2. Uses the Framework Selector to determine the best framework for handling the query\n",
    "3. Routes the query to the selected framework\n",
    "4. Returns the response to the user\n",
    "\n",
    "The Framework Selector can choose from four frameworks:\n",
    "- **Route Framework**: For simple categorizable queries that can be handled by specialized agents\n",
    "- **React Framework**: For reasoning and action problems that require tool use\n",
    "- **Plan Framework**: For complex multi-step problems that require planning\n",
    "- **Direct LLM**: For simple informational questions that can be answered directly\n",
    "\n",
    "The enhanced architecture introduces a **Unified Toolkit** that allows all frameworks to access both tools and agents, providing greater flexibility and power.\n",
    "\n",
    "Let's explore how this works in practice."
   ]
  },
  {
   "cell_type": "markdown",
   "metadata": {},
   "source": [
    "## Setup\n",
    "\n",
    "First, let's import the necessary modules and initialize the Agent Core."
   ]
  },
  {
   "cell_type": "code",
   "execution_count": null,
   "metadata": {},
   "outputs": [],
   "source": [
    "import os\n",
    "import sys\n",
    "from dotenv import load_dotenv\n",
    "\n",
    "# Load environment variables from .env file\n",
    "load_dotenv()\n",
    "\n",
    "# Import Ironbox components\n",
    "from ironbox.core.agent_core import AgentCore\n",
    "from ironbox.core.agent_framework import AgentFramework, RouteAgentFramework, ReactAgentFramework, PlanAgentFramework\n",
    "from ironbox.config import load_config\n",
    "\n",
    "# Load configuration\n",
    "config = load_config()\n",
    "\n",
    "# Initialize the Agent Core with configuration\n",
    "agent_core = AgentCore(config=config)\n",
    "\n",
    "# Initialize the Agent Core (this will set up the toolkit and frameworks)\n",
    "await agent_core.initialize()\n",
    "\n",
    "# Setup is complete\n",
    "print(\"Enhanced Agent Core initialized successfully.\")"
   ]
  },
  {
   "cell_type": "markdown",
   "metadata": {},
   "source": [
    "## Unified Toolkit\n",
    "\n",
    "The enhanced architecture introduces a Unified Toolkit that manages all tools and agents. Let's examine what's available in the toolkit."
   ]
  },
  {
   "cell_type": "code",
   "execution_count": null,
   "metadata": {},
   "outputs": [],
   "source": [
    "# List all tools in the toolkit\n",
    "print(\"All Tools in Unified Toolkit:\")\n",
    "for tool_name in agent_core.toolkit.tools.keys():\n",
    "    print(f\"- {tool_name}\")\n",
    "\n",
    "print(\"\\nLocal Tools:\")\n",
    "for tool_name in agent_core.toolkit.local_tools.keys():\n",
    "    print(f\"- {tool_name}\")\n",
    "\n",
    "print(\"\\nMCP Tools:\")\n",
    "for tool_name in agent_core.toolkit.mcp_tools.keys():\n",
    "    print(f\"- {tool_name}\")\n",
    "\n",
    "print(\"\\nAgent-as-Tools:\")\n",
    "for tool_name in agent_core.toolkit.agent_tools.keys():\n",
    "    print(f\"- {tool_name}\")\n",
    "\n",
    "print(\"\\nOriginal Agents:\")\n",
    "for agent_name in agent_core.toolkit.agents.keys():\n",
    "    print(f\"- {agent_name}\")"
   ]
  },
  {
   "cell_type": "markdown",
   "metadata": {},
   "source": [
    "## Framework Selection\n",
    "\n",
    "Let's examine how the Framework Selector decides which framework to use for different types of queries."
   ]
  },
  {
   "cell_type": "code",
   "execution_count": null,
   "metadata": {},
   "outputs": [],
   "source": [
    "# Function to demonstrate framework selection\n",
    "async def demonstrate_framework_selection(query):\n",
    "    print(f\"Query: {query}\")\n",
    "    framework_type = await agent_core.framework_selector.select_framework(query)\n",
    "    print(f\"Selected Framework: {framework_type}\\n\")\n",
    "    return framework_type\n",
    "\n",
    "# Test with different types of queries\n",
    "queries = [\n",
    "    \"Register my Kubernetes cluster at endpoint https://k8s.example.com\",  # Route Framework (Cluster Register)\n",
    "    \"How many pods are running in my production namespace?\",               # React Framework (requires tool use)\n",
    "    \"Create a deployment plan for migrating my application to Kubernetes\", # Plan Framework (complex multi-step)\n",
    "    \"What is Kubernetes?\"                                                 # Direct LLM (informational)\n",
    "]\n",
    "\n",
    "for query in queries:\n",
    "    await demonstrate_framework_selection(query)"
   ]
  },
  {
   "cell_type": "markdown",
   "metadata": {},
   "source": [
    "## Processing Queries with Different Frameworks\n",
    "\n",
    "Now let's see how each framework processes a query."
   ]
  },
  {
   "cell_type": "code",
   "execution_count": null,
   "metadata": {},
   "outputs": [],
   "source": [
    "# Function to process a query using the Agent Core\n",
    "async def process_query(query):\n",
    "    print(f\"Processing query: {query}\")\n",
    "    response = await agent_core.process_query(query, session_id=\"demo-session\")\n",
    "    print(f\"Response: {response['response']}\")\n",
    "    print(f\"Framework used: {response['framework']}\\n\")\n",
    "    return response\n",
    "\n",
    "# Process each query\n",
    "for query in queries:\n",
    "    await process_query(query)"
   ]
  },
  {
   "cell_type": "markdown",
   "metadata": {},
   "source": [
    "## Route Framework in Detail\n",
    "\n",
    "Let's take a closer look at how the Route Framework works with specialized agents."
   ]
  },
  {
   "cell_type": "code",
   "execution_count": null,
   "metadata": {},
   "outputs": [],
   "source": [
    "# Get the Route Framework\n",
    "route_framework = agent_core.frameworks.get(\"route\")\n",
    "\n",
    "# List available specialized agents\n",
    "print(\"Available Specialized Agents:\")\n",
    "for agent_type in agent_core.toolkit.agents.keys():\n",
    "    print(f\"- {agent_type}\")\n",
    "\n",
    "# Process a query with the Route Framework\n",
    "route_query = \"Check the health of my production cluster\"\n",
    "print(f\"\\nProcessing query with Route Framework: {route_query}\")\n",
    "from ironbox.core.graph import AgentState\n",
    "state = AgentState(input=route_query, session_id=\"demo-session\")\n",
    "result_state = await route_framework.process(state)\n",
    "print(f\"Response: {result_state.response if hasattr(result_state, 'response') else 'No direct response'}\")\n",
    "if hasattr(result_state, 'agent_outputs') and 'router' in result_state.agent_outputs:\n",
    "    print(f\"Next agent: {result_state.agent_outputs['router'].get('next', 'None')}\")"
   ]
  },
  {
   "cell_type": "markdown",
   "metadata": {},
   "source": [
    "## React Framework in Detail\n",
    "\n",
    "Now let's examine how the React Framework uses tools to solve problems."
   ]
  },
  {
   "cell_type": "code",
   "execution_count": null,
   "metadata": {},
   "outputs": [],
   "source": [
    "# Get the React Framework\n",
    "react_framework = agent_core.frameworks.get(\"react\")\n",
    "\n",
    "# List available tools\n",
    "print(\"Available Tools for React Framework:\")\n",
    "for tool_name in agent_core.toolkit.tools.keys():\n",
    "    print(f\"- {tool_name}\")\n",
    "\n",
    "# Process a query with the React Framework\n",
    "react_query = \"Scale my frontend deployment to 3 replicas\"\n",
    "print(f\"\\nProcessing query with React Framework: {react_query}\")\n",
    "state = AgentState(input=react_query, session_id=\"demo-session\")\n",
    "result_state = await react_framework.process(state)\n",
    "print(f\"Response: {result_state.response if hasattr(result_state, 'response') else 'No direct response'}\")\n",
    "\n",
    "# Print steps if available\n",
    "if hasattr(result_state, 'agent_outputs') and 'react' in result_state.agent_outputs:\n",
    "    steps = result_state.agent_outputs['react'].get('steps', [])\n",
    "    if steps:\n",
    "        print(\"\\nThinking steps:\")\n",
    "        for i, step in enumerate(steps):\n",
    "            print(f\"Step {i+1}:\")\n",
    "            print(f\"  Thought: {step.get('thought', 'No thought')}\")\n",
    "            print(f\"  Action: {step.get('action', 'No action')}\")\n",
    "            print(f\"  Action Input: {step.get('action_input', 'No input')}\")\n",
    "            print(f\"  Observation: {step.get('observation', 'No observation')}\\n\")"
   ]
  },
  {
   "cell_type": "markdown",
   "metadata": {},
   "source": [
    "## Plan Framework in Detail\n",
    "\n",
    "Now let's see how the Plan Framework creates and executes plans for complex problems."
   ]
  },
  {
   "cell_type": "code",
   "execution_count": null,
   "metadata": {},
   "outputs": [],
   "source": [
    "# Get the Plan Framework\n",
    "plan_framework = agent_core.frameworks.get(\"plan\")\n",
    "\n",
    "# Process a query with the Plan Framework\n",
    "plan_query = \"Create a new namespace, deploy a Redis instance, and configure it for high availability\"\n",
    "print(f\"Processing query with Plan Framework: {plan_query}\")\n",
    "state = AgentState(input=plan_query, session_id=\"demo-session\")\n",
    "result_state = await plan_framework.process(state)\n",
    "print(f\"Response: {result_state.response if hasattr(result_state, 'response') else 'No direct response'}\")\n",
    "\n",
    "# Display the plan and execution results\n",
    "if hasattr(result_state, 'agent_outputs') and 'plan' in result_state.agent_outputs:\n",
    "    plan = result_state.agent_outputs['plan'].get('plan', [])\n",
    "    if plan:\n",
    "        print(\"\\nPlan:\")\n",
    "        for i, step in enumerate(plan):\n",
    "            status = \"✓\" if step.completed else \"✗\"\n",
    "            print(f\"{status} Step {i+1}: {step.description}\")\n",
    "            if step.result:\n",
    "                print(f\"   Result: {step.result}\")"
   ]
  },
  {
   "cell_type": "markdown",
   "metadata": {},
   "source": [
    "## Using Agents as Tools\n",
    "\n",
    "One of the key enhancements in the new architecture is the ability to use agents as tools. Let's see how this works."
   ]
  },
  {
   "cell_type": "code",
   "execution_count": null,
   "metadata": {},
   "outputs": [],
   "source": [
    "# List agent tools\n",
    "print(\"Agent Tools:\")\n",
    "agent_tools = [name for name in agent_core.toolkit.tools.keys() if name.startswith(\"agent_\")]\n",
    "for tool_name in agent_tools:\n",
    "    print(f\"- {tool_name}\")\n",
    "\n",
    "# Process a query that would use an agent as a tool\n",
    "agent_tool_query = \"Use the cluster health agent to check the health of the production cluster\"\n",
    "print(f\"\\nProcessing query that uses an agent as a tool: {agent_tool_query}\")\n",
    "response = await agent_core.process_query(agent_tool_query, session_id=\"demo-session\")\n",
    "print(f\"Response: {response['response']}\")\n",
    "print(f\"Framework used: {response['framework']}\")\n",
    "\n",
    "# Print steps if available and using React framework\n",
    "if response['framework'] == 'react' and 'state' in response:\n",
    "    state = response['state']\n",
    "    if hasattr(state, 'agent_outputs') and 'react' in state.agent_outputs:\n",
    "        steps = state.agent_outputs['react'].get('steps', [])\n",
    "        if steps:\n",
    "            print(\"\\nSteps:\")\n",
    "            for i, step in enumerate(steps):\n",
    "                print(f\"Step {i+1}:\")\n",
    "                print(f\"  Thought: {step.get('thought', 'No thought')}\")\n",
    "                print(f\"  Action: {step.get('action', 'No action')}\")\n",
    "                print(f\"  Action Input: {step.get('action_input', 'No input')}\")\n",
    "                print(f\"  Observation: {step.get('observation', 'No observation')}\")"
   ]
  },
  {
   "cell_type": "markdown",
   "metadata": {},
   "source": [
    "## Configuration-Based Setup\n",
    "\n",
    "Another key enhancement is the ability to configure tools and agents through configuration files. Let's see what's in our configuration."
   ]
  },
  {
   "cell_type": "code",
   "execution_count": null,
   "metadata": {},
   "outputs": [],
   "source": [
    "# Display toolkit configuration\n",
    "import json\n",
    "print(\"Toolkit Configuration:\")\n",
    "print(json.dumps(config.get(\"toolkit\", {}), indent=2))"
   ]
  },
  {
   "cell_type": "markdown",
   "metadata": {},
   "source": [
    "## Conclusion\n",
    "\n",
    "In this notebook, we've explored how the Enhanced Agent Core and Framework Selection system works in Ironbox:\n",
    "\n",
    "1. The Agent Core receives user queries and uses the Framework Selector to determine the best framework for handling them.\n",
    "2. The Unified Toolkit provides a central repository for all tools and agents, allowing any framework to access them.\n",
    "3. The Route Framework routes simple categorizable queries to specialized agents.\n",
    "4. The React Framework uses a thinking-action-observation loop to solve reasoning and action problems.\n",
    "5. The Plan Framework creates and executes plans for complex multi-step problems.\n",
    "6. Direct LLM responses handle simple informational questions.\n",
    "7. Agents can be used as tools, allowing React and Plan frameworks to leverage specialized agent capabilities.\n",
    "8. Tools and agents can be configured through configuration files, making the system more flexible and extensible.\n",
    "\n",
    "This enhanced architecture allows Ironbox to handle a wide range of query types efficiently, using the most appropriate approach for each situation, while providing greater flexibility and power through the unified toolkit."
   ]
  }
 ],
 "metadata": {
  "kernelspec": {
   "display_name": "Python 3 (ipykernel)",
   "language": "python",
   "name": "python3"
  },
  "language_info": {
   "codemirror_mode": {
    "name": "ipython",
    "version": 3
   },
   "file_extension": ".py",
   "mimetype": "text/x-python",
   "name": "python",
   "nbconvert_exporter": "python",
   "pygments_lexer": "ipython3",
   "version": "3.12.3"
  }
 },
 "nbformat": 4,
 "nbformat_minor": 4
}
