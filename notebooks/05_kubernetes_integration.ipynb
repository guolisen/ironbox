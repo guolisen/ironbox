{
 "cells": [
  {
   "cell_type": "markdown",
   "metadata": {},
   "source": [
    "# Ironbox: Kubernetes Integration\n",
    "\n",
    "This notebook demonstrates how Ironbox integrates with Kubernetes to manage and monitor clusters.\n",
    "\n",
    "## Overview\n",
    "\n",
    "Ironbox provides comprehensive Kubernetes integration through several components:\n",
    "\n",
    "1. **Kubernetes Client**: Core component for interacting with Kubernetes APIs\n",
    "2. **Cluster Register Agent**: Manages cluster registration and configuration\n",
    "3. **Cluster Info Agent**: Retrieves information about clusters, namespaces, pods, etc.\n",
    "4. **Cluster Health Agent**: Monitors cluster health and diagnoses issues\n",
    "5. **Kubernetes Tools**: Set of tools for common Kubernetes operations\n",
    "\n",
    "Let's explore how these components work together to provide a powerful interface for Kubernetes management."
   ]
  },
  {
   "cell_type": "markdown",
   "metadata": {},
   "source": [
    "## Setup\n",
    "\n",
    "First, let's import the necessary modules and initialize the Kubernetes components."
   ]
  },
  {
   "cell_type": "code",
   "execution_count": null,
   "metadata": {},
   "outputs": [],
   "source": [
    "import os\n",
    "import sys\n",
    "import json\n",
    "from dotenv import load_dotenv\n",
    "\n",
    "# Load environment variables from .env file\n",
    "load_dotenv()\n",
    "\n",
    "# Import Ironbox components\n",
    "from ironbox.util.kubernetes_client import KubernetesClient\n",
    "from ironbox.agents.cluster_register import ClusterRegisterAgent\n",
    "from ironbox.agents.cluster_info import ClusterInfoAgent\n",
    "from ironbox.agents.cluster_health import ClusterHealthAgent\n",
    "from ironbox.core.agent_core import AgentCore\n",
    "\n",
    "# Initialize the Kubernetes client\n",
    "k8s_client = KubernetesClient()\n",
    "\n",
    "# Initialize the specialized agents\n",
    "cluster_register_agent = ClusterRegisterAgent(k8s_client)\n",
    "cluster_info_agent = ClusterInfoAgent(k8s_client)\n",
    "cluster_health_agent = ClusterHealthAgent(k8s_client)\n",
    "\n",
    "# Initialize the Agent Core\n",
    "agent_core = AgentCore()\n",
    "agent_core.register_agent(\"cluster_register\", cluster_register_agent.process_query)\n",
    "agent_core.register_agent(\"cluster_info\", cluster_info_agent.process_query)\n",
    "agent_core.register_agent(\"cluster_health\", cluster_health_agent.process_query)\n",
    "\n",
    "print(\"Kubernetes components initialized successfully.\")"
   ]
  },
  {
   "cell_type": "markdown",
   "metadata": {},
   "source": [
    "## Kubernetes Client\n",
    "\n",
    "The Kubernetes Client is the core component for interacting with Kubernetes APIs. Let's explore its capabilities."
   ]
  },
  {
   "cell_type": "code",
   "execution_count": null,
   "metadata": {},
   "outputs": [],
   "source": [
    "# Function to demonstrate the Kubernetes Client\n",
    "def demonstrate_kubernetes_client():\n",
    "    print(\"=== Kubernetes Client Demo ===\")\n",
    "    \n",
    "    # List registered clusters\n",
    "    clusters = k8s_client.list_clusters()\n",
    "    print(f\"Registered Clusters: {len(clusters)}\")\n",
    "    for cluster in clusters:\n",
    "        print(f\"  - {cluster['name']} ({cluster['api_endpoint']})\")\n",
    "    \n",
    "    # If no clusters are registered, register a demo cluster\n",
    "    if not clusters:\n",
    "        print(\"\\nRegistering a demo cluster...\")\n",
    "        k8s_client.register_cluster(\"demo-cluster\", \"https://k8s.example.com\", \"demo-user\")\n",
    "        print(\"Demo cluster registered.\")\n",
    "    \n",
    "    # Select a cluster to work with\n",
    "    cluster_name = clusters[0]['name'] if clusters else \"demo-cluster\"\n",
    "    print(f\"\\nWorking with cluster: {cluster_name}\")\n",
    "    \n",
    "    # List namespaces\n",
    "    try:\n",
    "        namespaces = k8s_client.list_namespaces(cluster_name)\n",
    "        print(f\"\\nNamespaces in {cluster_name}:\")\n",
    "        for namespace in namespaces:\n",
    "            print(f\"  - {namespace}\")\n",
    "    except Exception as e:\n",
    "        print(f\"Could not list namespaces: {e}\")\n",
    "        print(\"Using simulated data for demonstration purposes.\")\n",
    "        namespaces = [\"default\", \"kube-system\", \"production\", \"staging\"]\n",
    "        print(f\"\\nSimulated Namespaces in {cluster_name}:\")\n",
    "        for namespace in namespaces:\n",
    "            print(f\"  - {namespace}\")\n",
    "\n",
    "# Run the demonstration\n",
    "demonstrate_kubernetes_client()"
   ]
  },
  {
   "cell_type": "markdown",
   "metadata": {},
   "source": [
    "## Cluster Register Agent\n",
    "\n",
    "The Cluster Register Agent manages cluster registration and configuration. Let's see how it works."
   ]
  },
  {
   "cell_type": "code",
   "execution_count": null,
   "metadata": {},
   "outputs": [],
   "source": [
    "# Function to demonstrate the Cluster Register Agent\n",
    "def demonstrate_cluster_register_agent():\n",
    "    print(\"=== Cluster Register Agent Demo ===\")\n",
    "    \n",
    "    # Register a new cluster\n",
    "    register_query = \"Register my Kubernetes cluster named 'production' with API endpoint https://k8s.production.example.com\"\n",
    "    print(f\"Query: {register_query}\")\n",
    "    register_response = cluster_register_agent.process_query(register_query)\n",
    "    print(f\"Response: {register_response}\\n\")\n",
    "    \n",
    "    # List registered clusters\n",
    "    list_query = \"List all my registered Kubernetes clusters\"\n",
    "    print(f\"Query: {list_query}\")\n",
    "    list_response = cluster_register_agent.process_query(list_query)\n",
    "    print(f\"Response: {list_response}\\n\")\n",
    "\n",
    "# Run the demonstration\n",
    "demonstrate_cluster_register_agent()"
   ]
  },
  {
   "cell_type": "markdown",
   "metadata": {},
   "source": [
    "## Cluster Info Agent\n",
    "\n",
    "The Cluster Info Agent retrieves information about Kubernetes resources."
   ]
  },
  {
   "cell_type": "code",
   "execution_count": null,
   "metadata": {},
   "outputs": [],
   "source": [
    "# Function to demonstrate the Cluster Info Agent\n",
    "def demonstrate_cluster_info_agent():\n",
    "    print(\"=== Cluster Info Agent Demo ===\")\n",
    "    \n",
    "    # Get cluster overview\n",
    "    overview_query = \"Give me an overview of my production cluster\"\n",
    "    print(f\"Query: {overview_query}\")\n",
    "    overview_response = cluster_info_agent.process_query(overview_query)\n",
    "    print(f\"Response: {overview_response}\\n\")\n",
    "\n",
    "# Run the demonstration\n",
    "demonstrate_cluster_info_agent()"
   ]
  },
  {
   "cell_type": "markdown",
   "metadata": {},
   "source": [
    "## Cluster Health Agent\n",
    "\n",
    "The Cluster Health Agent monitors cluster health and diagnoses issues."
   ]
  },
  {
   "cell_type": "code",
   "execution_count": null,
   "metadata": {},
   "outputs": [],
   "source": [
    "# Function to demonstrate the Cluster Health Agent\n",
    "def demonstrate_cluster_health_agent():\n",
    "    print(\"=== Cluster Health Agent Demo ===\")\n",
    "    \n",
    "    # Check overall cluster health\n",
    "    health_query = \"Check the health of my production cluster\"\n",
    "    print(f\"Query: {health_query}\")\n",
    "    health_response = cluster_health_agent.process_query(health_query)\n",
    "    print(f\"Response: {health_response}\\n\")\n",
    "\n",
    "# Run the demonstration\n",
    "demonstrate_cluster_health_agent()"
   ]
  },
  {
   "cell_type": "markdown",
   "metadata": {},
   "source": [
    "## Kubernetes Tools\n",
    "\n",
    "Ironbox provides a set of tools for common Kubernetes operations."
   ]
  },
  {
   "cell_type": "code",
   "execution_count": null,
   "metadata": {},
   "outputs": [],
   "source": [
    "# Function to demonstrate Kubernetes tools\n",
    "def demonstrate_kubernetes_tools():\n",
    "    print(\"=== Kubernetes Tools Demo ===\")\n",
    "    \n",
    "    # List available Kubernetes tools\n",
    "    k8s_tools = [\n",
    "        \"get_pod_count\",\n",
    "        \"get_node_status\",\n",
    "        \"restart_pod\",\n",
    "        \"scale_deployment\",\n",
    "        \"get_logs\",\n",
    "        \"create_namespace\",\n",
    "        \"apply_yaml\",\n",
    "        \"delete_resource\"\n",
    "    ]\n",
    "    \n",
    "    print(\"Available Kubernetes Tools:\")\n",
    "    for tool in k8s_tools:\n",
    "        print(f\"  - {tool}\")\n",
    "\n",
    "# Run the demonstration\n",
    "demonstrate_kubernetes_tools()"
   ]
  },
  {
   "cell_type": "markdown",
   "metadata": {},
   "source": [
    "## Kubernetes Deployment Example\n",
    "\n",
    "Let's walk through a simple example of deploying an application to Kubernetes using Ironbox."
   ]
  },
  {
   "cell_type": "code",
   "execution_count": null,
   "metadata": {},
   "outputs": [],
   "source": [
    "# Function to demonstrate a simple Kubernetes deployment\n",
    "def demonstrate_simple_deployment():\n",
    "    print(\"=== Simple Kubernetes Deployment Demo ===\")\n",
    "    \n",
    "    # Create a namespace\n",
    "    print(\"Creating a namespace...\")\n",
    "    namespace_yaml = \"\"\"apiVersion: v1\n",
    "kind: Namespace\n",
    "metadata:\n",
    "  name: example-app\"\"\"\n",
    "    \n",
    "    try:\n",
    "        result = k8s_client.apply_yaml(\"production\", namespace_yaml)\n",
    "        print(f\"Result: {result}\")\n",
    "    except Exception as e:\n",
    "        print(f\"Could not create namespace: {e}\")\n",
    "        print(\"Using simulated data for demonstration purposes.\")\n",
    "        print(\"Result: Namespace 'example-app' created\")\n",
    "\n",
    "# Run the demonstration\n",
    "demonstrate_simple_deployment()"
   ]
  },
  {
   "cell_type": "markdown",
   "metadata": {},
   "source": [
    "## Conclusion\n",
    "\n",
    "In this notebook, we've explored how Ironbox integrates with Kubernetes:\n",
    "\n",
    "1. **Kubernetes Client**: Core component for interacting with Kubernetes APIs\n",
    "2. **Cluster Register Agent**: Manages cluster registration and configuration\n",
    "3. **Cluster Info Agent**: Retrieves information about Kubernetes resources\n",
    "4. **Cluster Health Agent**: Monitors cluster health and diagnoses issues\n",
    "5. **Kubernetes Tools**: Set of tools for common Kubernetes operations\n",
    "\n",
    "These components work together to provide a comprehensive interface for managing and monitoring Kubernetes clusters through natural language queries and programmatic APIs."
   ]
  }
 ],
 "metadata": {
  "kernelspec": {
   "display_name": "Python 3",
   "language": "python",
   "name": "python3"
  },
  "language_info": {
   "codemirror_mode": {
    "name": "ipython",
    "version": 3
   },
   "file_extension": ".py",
   "mimetype": "text/x-python",
   "name": "python",
   "nbconvert_exporter": "python",
   "pygments_lexer": "ipython3",
   "version": "3.12.0"
  }
 },
 "nbformat": 4,
 "nbformat_minor": 4
}
